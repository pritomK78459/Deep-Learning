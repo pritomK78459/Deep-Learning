{
  "nbformat": 4,
  "nbformat_minor": 0,
  "metadata": {
    "colab": {
      "name": "Churn_Modelling_Nueral_Networks.ipynb",
      "provenance": []
    },
    "kernelspec": {
      "name": "python3",
      "display_name": "Python 3"
    }
  },
  "cells": [
    {
      "cell_type": "markdown",
      "metadata": {
        "id": "qW4c7wxEMymg",
        "colab_type": "text"
      },
      "source": [
        "# Artificial Neural Networks"
      ]
    },
    {
      "cell_type": "markdown",
      "metadata": {
        "id": "SIC1jdRYM7UJ",
        "colab_type": "text"
      },
      "source": [
        "## Loading important libraries and datasets"
      ]
    },
    {
      "cell_type": "code",
      "metadata": {
        "id": "9nfkjRwm9oOG",
        "colab_type": "code",
        "colab": {}
      },
      "source": [
        "import pandas as pd\n",
        "import numpy as np\n",
        "import matplotlib.pyplot as plt\n",
        "import seaborn as sns; sns.set()\n",
        "from sklearn.model_selection import train_test_split\n",
        "from sklearn.metrics import accuracy_score\n",
        "from sklearn.metrics import confusion_matrix\n",
        "from sklearn.preprocessing import StandardScaler\n",
        "import keras\n",
        "from keras.models import Sequential\n",
        "from keras.layers import Dense\n",
        "from keras.layers import LeakyReLU,PReLU,ELU\n",
        "from keras.layers import Dropout"
      ],
      "execution_count": 69,
      "outputs": []
    },
    {
      "cell_type": "code",
      "metadata": {
        "id": "LXdHarjZ9-ev",
        "colab_type": "code",
        "colab": {
          "base_uri": "https://localhost:8080/",
          "height": 422
        },
        "outputId": "9c035603-7ab1-4d4f-aca1-e577129bf84b"
      },
      "source": [
        "data = pd.read_csv('datasets_13214_17927_Churn_Modelling.csv')\n",
        "data"
      ],
      "execution_count": 47,
      "outputs": [
        {
          "output_type": "execute_result",
          "data": {
            "text/html": [
              "<div>\n",
              "<style scoped>\n",
              "    .dataframe tbody tr th:only-of-type {\n",
              "        vertical-align: middle;\n",
              "    }\n",
              "\n",
              "    .dataframe tbody tr th {\n",
              "        vertical-align: top;\n",
              "    }\n",
              "\n",
              "    .dataframe thead th {\n",
              "        text-align: right;\n",
              "    }\n",
              "</style>\n",
              "<table border=\"1\" class=\"dataframe\">\n",
              "  <thead>\n",
              "    <tr style=\"text-align: right;\">\n",
              "      <th></th>\n",
              "      <th>RowNumber</th>\n",
              "      <th>CustomerId</th>\n",
              "      <th>Surname</th>\n",
              "      <th>CreditScore</th>\n",
              "      <th>Geography</th>\n",
              "      <th>Gender</th>\n",
              "      <th>Age</th>\n",
              "      <th>Tenure</th>\n",
              "      <th>Balance</th>\n",
              "      <th>NumOfProducts</th>\n",
              "      <th>HasCrCard</th>\n",
              "      <th>IsActiveMember</th>\n",
              "      <th>EstimatedSalary</th>\n",
              "      <th>Exited</th>\n",
              "    </tr>\n",
              "  </thead>\n",
              "  <tbody>\n",
              "    <tr>\n",
              "      <th>0</th>\n",
              "      <td>1</td>\n",
              "      <td>15634602</td>\n",
              "      <td>Hargrave</td>\n",
              "      <td>619</td>\n",
              "      <td>France</td>\n",
              "      <td>Female</td>\n",
              "      <td>42</td>\n",
              "      <td>2</td>\n",
              "      <td>0.00</td>\n",
              "      <td>1</td>\n",
              "      <td>1</td>\n",
              "      <td>1</td>\n",
              "      <td>101348.88</td>\n",
              "      <td>1</td>\n",
              "    </tr>\n",
              "    <tr>\n",
              "      <th>1</th>\n",
              "      <td>2</td>\n",
              "      <td>15647311</td>\n",
              "      <td>Hill</td>\n",
              "      <td>608</td>\n",
              "      <td>Spain</td>\n",
              "      <td>Female</td>\n",
              "      <td>41</td>\n",
              "      <td>1</td>\n",
              "      <td>83807.86</td>\n",
              "      <td>1</td>\n",
              "      <td>0</td>\n",
              "      <td>1</td>\n",
              "      <td>112542.58</td>\n",
              "      <td>0</td>\n",
              "    </tr>\n",
              "    <tr>\n",
              "      <th>2</th>\n",
              "      <td>3</td>\n",
              "      <td>15619304</td>\n",
              "      <td>Onio</td>\n",
              "      <td>502</td>\n",
              "      <td>France</td>\n",
              "      <td>Female</td>\n",
              "      <td>42</td>\n",
              "      <td>8</td>\n",
              "      <td>159660.80</td>\n",
              "      <td>3</td>\n",
              "      <td>1</td>\n",
              "      <td>0</td>\n",
              "      <td>113931.57</td>\n",
              "      <td>1</td>\n",
              "    </tr>\n",
              "    <tr>\n",
              "      <th>3</th>\n",
              "      <td>4</td>\n",
              "      <td>15701354</td>\n",
              "      <td>Boni</td>\n",
              "      <td>699</td>\n",
              "      <td>France</td>\n",
              "      <td>Female</td>\n",
              "      <td>39</td>\n",
              "      <td>1</td>\n",
              "      <td>0.00</td>\n",
              "      <td>2</td>\n",
              "      <td>0</td>\n",
              "      <td>0</td>\n",
              "      <td>93826.63</td>\n",
              "      <td>0</td>\n",
              "    </tr>\n",
              "    <tr>\n",
              "      <th>4</th>\n",
              "      <td>5</td>\n",
              "      <td>15737888</td>\n",
              "      <td>Mitchell</td>\n",
              "      <td>850</td>\n",
              "      <td>Spain</td>\n",
              "      <td>Female</td>\n",
              "      <td>43</td>\n",
              "      <td>2</td>\n",
              "      <td>125510.82</td>\n",
              "      <td>1</td>\n",
              "      <td>1</td>\n",
              "      <td>1</td>\n",
              "      <td>79084.10</td>\n",
              "      <td>0</td>\n",
              "    </tr>\n",
              "    <tr>\n",
              "      <th>...</th>\n",
              "      <td>...</td>\n",
              "      <td>...</td>\n",
              "      <td>...</td>\n",
              "      <td>...</td>\n",
              "      <td>...</td>\n",
              "      <td>...</td>\n",
              "      <td>...</td>\n",
              "      <td>...</td>\n",
              "      <td>...</td>\n",
              "      <td>...</td>\n",
              "      <td>...</td>\n",
              "      <td>...</td>\n",
              "      <td>...</td>\n",
              "      <td>...</td>\n",
              "    </tr>\n",
              "    <tr>\n",
              "      <th>9995</th>\n",
              "      <td>9996</td>\n",
              "      <td>15606229</td>\n",
              "      <td>Obijiaku</td>\n",
              "      <td>771</td>\n",
              "      <td>France</td>\n",
              "      <td>Male</td>\n",
              "      <td>39</td>\n",
              "      <td>5</td>\n",
              "      <td>0.00</td>\n",
              "      <td>2</td>\n",
              "      <td>1</td>\n",
              "      <td>0</td>\n",
              "      <td>96270.64</td>\n",
              "      <td>0</td>\n",
              "    </tr>\n",
              "    <tr>\n",
              "      <th>9996</th>\n",
              "      <td>9997</td>\n",
              "      <td>15569892</td>\n",
              "      <td>Johnstone</td>\n",
              "      <td>516</td>\n",
              "      <td>France</td>\n",
              "      <td>Male</td>\n",
              "      <td>35</td>\n",
              "      <td>10</td>\n",
              "      <td>57369.61</td>\n",
              "      <td>1</td>\n",
              "      <td>1</td>\n",
              "      <td>1</td>\n",
              "      <td>101699.77</td>\n",
              "      <td>0</td>\n",
              "    </tr>\n",
              "    <tr>\n",
              "      <th>9997</th>\n",
              "      <td>9998</td>\n",
              "      <td>15584532</td>\n",
              "      <td>Liu</td>\n",
              "      <td>709</td>\n",
              "      <td>France</td>\n",
              "      <td>Female</td>\n",
              "      <td>36</td>\n",
              "      <td>7</td>\n",
              "      <td>0.00</td>\n",
              "      <td>1</td>\n",
              "      <td>0</td>\n",
              "      <td>1</td>\n",
              "      <td>42085.58</td>\n",
              "      <td>1</td>\n",
              "    </tr>\n",
              "    <tr>\n",
              "      <th>9998</th>\n",
              "      <td>9999</td>\n",
              "      <td>15682355</td>\n",
              "      <td>Sabbatini</td>\n",
              "      <td>772</td>\n",
              "      <td>Germany</td>\n",
              "      <td>Male</td>\n",
              "      <td>42</td>\n",
              "      <td>3</td>\n",
              "      <td>75075.31</td>\n",
              "      <td>2</td>\n",
              "      <td>1</td>\n",
              "      <td>0</td>\n",
              "      <td>92888.52</td>\n",
              "      <td>1</td>\n",
              "    </tr>\n",
              "    <tr>\n",
              "      <th>9999</th>\n",
              "      <td>10000</td>\n",
              "      <td>15628319</td>\n",
              "      <td>Walker</td>\n",
              "      <td>792</td>\n",
              "      <td>France</td>\n",
              "      <td>Female</td>\n",
              "      <td>28</td>\n",
              "      <td>4</td>\n",
              "      <td>130142.79</td>\n",
              "      <td>1</td>\n",
              "      <td>1</td>\n",
              "      <td>0</td>\n",
              "      <td>38190.78</td>\n",
              "      <td>0</td>\n",
              "    </tr>\n",
              "  </tbody>\n",
              "</table>\n",
              "<p>10000 rows × 14 columns</p>\n",
              "</div>"
            ],
            "text/plain": [
              "      RowNumber  CustomerId    Surname  ...  IsActiveMember EstimatedSalary Exited\n",
              "0             1    15634602   Hargrave  ...               1       101348.88      1\n",
              "1             2    15647311       Hill  ...               1       112542.58      0\n",
              "2             3    15619304       Onio  ...               0       113931.57      1\n",
              "3             4    15701354       Boni  ...               0        93826.63      0\n",
              "4             5    15737888   Mitchell  ...               1        79084.10      0\n",
              "...         ...         ...        ...  ...             ...             ...    ...\n",
              "9995       9996    15606229   Obijiaku  ...               0        96270.64      0\n",
              "9996       9997    15569892  Johnstone  ...               1       101699.77      0\n",
              "9997       9998    15584532        Liu  ...               1        42085.58      1\n",
              "9998       9999    15682355  Sabbatini  ...               0        92888.52      1\n",
              "9999      10000    15628319     Walker  ...               0        38190.78      0\n",
              "\n",
              "[10000 rows x 14 columns]"
            ]
          },
          "metadata": {
            "tags": []
          },
          "execution_count": 47
        }
      ]
    },
    {
      "cell_type": "markdown",
      "metadata": {
        "id": "TTpCLzECNBUi",
        "colab_type": "text"
      },
      "source": [
        "## Preparing data for training"
      ]
    },
    {
      "cell_type": "code",
      "metadata": {
        "id": "iQvBKqCR-Doy",
        "colab_type": "code",
        "colab": {}
      },
      "source": [
        "X = data.drop(['RowNumber','CustomerId','Surname','Exited'],axis = 1)\n",
        "y = data['Exited']"
      ],
      "execution_count": 48,
      "outputs": []
    },
    {
      "cell_type": "markdown",
      "metadata": {
        "id": "H758x0eQNGRq",
        "colab_type": "text"
      },
      "source": [
        "## Preparing dummies for categorical varibles"
      ]
    },
    {
      "cell_type": "code",
      "metadata": {
        "id": "SS_CeCXr-ySK",
        "colab_type": "code",
        "colab": {}
      },
      "source": [
        "geography = pd.get_dummies(X['Geography'],drop_first = True)\n",
        "gender = pd.get_dummies(X['Gender'],drop_first = True)"
      ],
      "execution_count": 49,
      "outputs": []
    },
    {
      "cell_type": "code",
      "metadata": {
        "id": "h6U-lanX-9_4",
        "colab_type": "code",
        "colab": {}
      },
      "source": [
        "X = pd.concat([X,geography,gender],axis=1)"
      ],
      "execution_count": 50,
      "outputs": []
    },
    {
      "cell_type": "code",
      "metadata": {
        "id": "nYTWVEf-_iUi",
        "colab_type": "code",
        "colab": {}
      },
      "source": [
        "X = X.drop(['Geography','Gender'],axis = 1)"
      ],
      "execution_count": 51,
      "outputs": []
    },
    {
      "cell_type": "code",
      "metadata": {
        "id": "oZrV0F77_jn7",
        "colab_type": "code",
        "colab": {}
      },
      "source": [
        "X_train,X_test,y_train,y_test = train_test_split(X,y, test_size = 0.2,random_state = 0)"
      ],
      "execution_count": 52,
      "outputs": []
    },
    {
      "cell_type": "markdown",
      "metadata": {
        "id": "8-mXkZ5eNLib",
        "colab_type": "text"
      },
      "source": [
        "## Standardizing the data"
      ]
    },
    {
      "cell_type": "code",
      "metadata": {
        "id": "tUj2pcTuAyEs",
        "colab_type": "code",
        "colab": {}
      },
      "source": [
        "sc = StandardScaler()\n",
        "X_train = sc.fit_transform(X_train)\n",
        "X_test = sc.transform(X_test)"
      ],
      "execution_count": 53,
      "outputs": []
    },
    {
      "cell_type": "markdown",
      "metadata": {
        "id": "t0BbRSiFNPzD",
        "colab_type": "text"
      },
      "source": [
        "## Creating an empty neural network"
      ]
    },
    {
      "cell_type": "code",
      "metadata": {
        "id": "XOE8nKqCBUb8",
        "colab_type": "code",
        "colab": {}
      },
      "source": [
        "classifier = Sequential() #empty neural network"
      ],
      "execution_count": 108,
      "outputs": []
    },
    {
      "cell_type": "markdown",
      "metadata": {
        "id": "9xQOI1kONVdS",
        "colab_type": "text"
      },
      "source": [
        "## Adding hidden layers"
      ]
    },
    {
      "cell_type": "code",
      "metadata": {
        "id": "HReEjI0sCcDF",
        "colab_type": "code",
        "colab": {}
      },
      "source": [
        "classifier.add(Dense(units = 6,kernel_initializer = 'he_normal',activation = 'relu',input_dim= 11)) #hidden layer 1"
      ],
      "execution_count": 109,
      "outputs": []
    },
    {
      "cell_type": "code",
      "metadata": {
        "id": "xXlYDiyuCrMB",
        "colab_type": "code",
        "colab": {}
      },
      "source": [
        "classifier.add(Dense(units = 6,kernel_initializer = 'he_normal',activation = 'relu')) #hidden layer 2"
      ],
      "execution_count": 110,
      "outputs": []
    },
    {
      "cell_type": "code",
      "metadata": {
        "id": "D7hsOUeADj1v",
        "colab_type": "code",
        "colab": {}
      },
      "source": [
        "classifier.add(Dense(units = 1,kernel_initializer = 'glorot_uniform',activation = 'sigmoid')) #hidden layer 3"
      ],
      "execution_count": 111,
      "outputs": []
    },
    {
      "cell_type": "markdown",
      "metadata": {
        "id": "eN7FuUxeNdvn",
        "colab_type": "text"
      },
      "source": [
        "## Compiling the hidden layer"
      ]
    },
    {
      "cell_type": "code",
      "metadata": {
        "id": "Y0PSGAKaE58E",
        "colab_type": "code",
        "colab": {}
      },
      "source": [
        "classifier.compile(optimizer = 'adam', loss = 'binary_crossentropy', metrics = ['accuracy'])"
      ],
      "execution_count": 112,
      "outputs": []
    },
    {
      "cell_type": "markdown",
      "metadata": {
        "id": "EScNnVy7NhUv",
        "colab_type": "text"
      },
      "source": [
        "## Training the hidden layer"
      ]
    },
    {
      "cell_type": "code",
      "metadata": {
        "id": "JZEkOAdoFWbg",
        "colab_type": "code",
        "colab": {
          "base_uri": "https://localhost:8080/",
          "height": 1000
        },
        "outputId": "7acc20f0-d82f-4373-865b-ad6736c8f6bd"
      },
      "source": [
        "model_history=classifier.fit(X_train,y_train,validation_split=0.33,batch_size= 10, epochs=100)"
      ],
      "execution_count": 113,
      "outputs": [
        {
          "output_type": "stream",
          "text": [
            "Epoch 1/100\n",
            "536/536 [==============================] - 1s 1ms/step - loss: 0.6592 - accuracy: 0.6708 - val_loss: 0.5211 - val_accuracy: 0.7955\n",
            "Epoch 2/100\n",
            "536/536 [==============================] - 1s 1ms/step - loss: 0.4689 - accuracy: 0.8011 - val_loss: 0.4456 - val_accuracy: 0.8065\n",
            "Epoch 3/100\n",
            "536/536 [==============================] - 1s 1ms/step - loss: 0.4247 - accuracy: 0.8134 - val_loss: 0.4240 - val_accuracy: 0.8152\n",
            "Epoch 4/100\n",
            "536/536 [==============================] - 1s 1ms/step - loss: 0.4060 - accuracy: 0.8224 - val_loss: 0.4071 - val_accuracy: 0.8190\n",
            "Epoch 5/100\n",
            "536/536 [==============================] - 1s 1ms/step - loss: 0.3873 - accuracy: 0.8317 - val_loss: 0.3935 - val_accuracy: 0.8304\n",
            "Epoch 6/100\n",
            "536/536 [==============================] - 1s 1ms/step - loss: 0.3724 - accuracy: 0.8414 - val_loss: 0.3823 - val_accuracy: 0.8368\n",
            "Epoch 7/100\n",
            "536/536 [==============================] - 1s 1ms/step - loss: 0.3627 - accuracy: 0.8461 - val_loss: 0.3770 - val_accuracy: 0.8383\n",
            "Epoch 8/100\n",
            "536/536 [==============================] - 1s 1ms/step - loss: 0.3560 - accuracy: 0.8487 - val_loss: 0.3747 - val_accuracy: 0.8395\n",
            "Epoch 9/100\n",
            "536/536 [==============================] - 1s 1ms/step - loss: 0.3516 - accuracy: 0.8528 - val_loss: 0.3716 - val_accuracy: 0.8421\n",
            "Epoch 10/100\n",
            "536/536 [==============================] - 1s 1ms/step - loss: 0.3475 - accuracy: 0.8518 - val_loss: 0.3699 - val_accuracy: 0.8425\n",
            "Epoch 11/100\n",
            "536/536 [==============================] - 1s 1ms/step - loss: 0.3454 - accuracy: 0.8533 - val_loss: 0.3665 - val_accuracy: 0.8463\n",
            "Epoch 12/100\n",
            "536/536 [==============================] - 1s 1ms/step - loss: 0.3429 - accuracy: 0.8556 - val_loss: 0.3656 - val_accuracy: 0.8463\n",
            "Epoch 13/100\n",
            "536/536 [==============================] - 1s 1ms/step - loss: 0.3412 - accuracy: 0.8559 - val_loss: 0.3637 - val_accuracy: 0.8485\n",
            "Epoch 14/100\n",
            "536/536 [==============================] - 1s 1ms/step - loss: 0.3396 - accuracy: 0.8580 - val_loss: 0.3633 - val_accuracy: 0.8485\n",
            "Epoch 15/100\n",
            "536/536 [==============================] - 1s 1ms/step - loss: 0.3392 - accuracy: 0.8589 - val_loss: 0.3621 - val_accuracy: 0.8523\n",
            "Epoch 16/100\n",
            "536/536 [==============================] - 1s 1ms/step - loss: 0.3381 - accuracy: 0.8627 - val_loss: 0.3613 - val_accuracy: 0.8550\n",
            "Epoch 17/100\n",
            "536/536 [==============================] - 1s 1ms/step - loss: 0.3366 - accuracy: 0.8627 - val_loss: 0.3635 - val_accuracy: 0.8519\n",
            "Epoch 18/100\n",
            "536/536 [==============================] - 1s 1ms/step - loss: 0.3368 - accuracy: 0.8597 - val_loss: 0.3608 - val_accuracy: 0.8542\n",
            "Epoch 19/100\n",
            "536/536 [==============================] - 1s 1ms/step - loss: 0.3360 - accuracy: 0.8621 - val_loss: 0.3596 - val_accuracy: 0.8550\n",
            "Epoch 20/100\n",
            "536/536 [==============================] - 1s 1ms/step - loss: 0.3358 - accuracy: 0.8617 - val_loss: 0.3601 - val_accuracy: 0.8538\n",
            "Epoch 21/100\n",
            "536/536 [==============================] - 1s 1ms/step - loss: 0.3354 - accuracy: 0.8608 - val_loss: 0.3613 - val_accuracy: 0.8512\n",
            "Epoch 22/100\n",
            "536/536 [==============================] - 1s 1ms/step - loss: 0.3349 - accuracy: 0.8604 - val_loss: 0.3611 - val_accuracy: 0.8580\n",
            "Epoch 23/100\n",
            "536/536 [==============================] - 1s 1ms/step - loss: 0.3342 - accuracy: 0.8614 - val_loss: 0.3610 - val_accuracy: 0.8561\n",
            "Epoch 24/100\n",
            "536/536 [==============================] - 1s 1ms/step - loss: 0.3344 - accuracy: 0.8614 - val_loss: 0.3584 - val_accuracy: 0.8554\n",
            "Epoch 25/100\n",
            "536/536 [==============================] - 1s 1ms/step - loss: 0.3337 - accuracy: 0.8599 - val_loss: 0.3595 - val_accuracy: 0.8588\n",
            "Epoch 26/100\n",
            "536/536 [==============================] - 1s 1ms/step - loss: 0.3337 - accuracy: 0.8617 - val_loss: 0.3573 - val_accuracy: 0.8546\n",
            "Epoch 27/100\n",
            "536/536 [==============================] - 1s 1ms/step - loss: 0.3336 - accuracy: 0.8623 - val_loss: 0.3579 - val_accuracy: 0.8535\n",
            "Epoch 28/100\n",
            "536/536 [==============================] - 1s 1ms/step - loss: 0.3337 - accuracy: 0.8612 - val_loss: 0.3576 - val_accuracy: 0.8565\n",
            "Epoch 29/100\n",
            "536/536 [==============================] - 1s 1ms/step - loss: 0.3325 - accuracy: 0.8640 - val_loss: 0.3591 - val_accuracy: 0.8523\n",
            "Epoch 30/100\n",
            "536/536 [==============================] - 1s 1ms/step - loss: 0.3330 - accuracy: 0.8628 - val_loss: 0.3577 - val_accuracy: 0.8569\n",
            "Epoch 31/100\n",
            "536/536 [==============================] - 1s 1ms/step - loss: 0.3325 - accuracy: 0.8614 - val_loss: 0.3587 - val_accuracy: 0.8565\n",
            "Epoch 32/100\n",
            "536/536 [==============================] - 1s 1ms/step - loss: 0.3325 - accuracy: 0.8615 - val_loss: 0.3570 - val_accuracy: 0.8535\n",
            "Epoch 33/100\n",
            "536/536 [==============================] - 1s 1ms/step - loss: 0.3321 - accuracy: 0.8634 - val_loss: 0.3578 - val_accuracy: 0.8546\n",
            "Epoch 34/100\n",
            "536/536 [==============================] - 1s 1ms/step - loss: 0.3319 - accuracy: 0.8615 - val_loss: 0.3577 - val_accuracy: 0.8550\n",
            "Epoch 35/100\n",
            "536/536 [==============================] - 1s 1ms/step - loss: 0.3318 - accuracy: 0.8623 - val_loss: 0.3568 - val_accuracy: 0.8557\n",
            "Epoch 36/100\n",
            "536/536 [==============================] - 1s 1ms/step - loss: 0.3316 - accuracy: 0.8612 - val_loss: 0.3584 - val_accuracy: 0.8535\n",
            "Epoch 37/100\n",
            "536/536 [==============================] - 1s 1ms/step - loss: 0.3326 - accuracy: 0.8625 - val_loss: 0.3574 - val_accuracy: 0.8573\n",
            "Epoch 38/100\n",
            "536/536 [==============================] - 1s 1ms/step - loss: 0.3311 - accuracy: 0.8627 - val_loss: 0.3596 - val_accuracy: 0.8580\n",
            "Epoch 39/100\n",
            "536/536 [==============================] - 1s 1ms/step - loss: 0.3311 - accuracy: 0.8612 - val_loss: 0.3574 - val_accuracy: 0.8542\n",
            "Epoch 40/100\n",
            "536/536 [==============================] - 1s 1ms/step - loss: 0.3306 - accuracy: 0.8615 - val_loss: 0.3594 - val_accuracy: 0.8588\n",
            "Epoch 41/100\n",
            "536/536 [==============================] - 1s 1ms/step - loss: 0.3312 - accuracy: 0.8630 - val_loss: 0.3572 - val_accuracy: 0.8565\n",
            "Epoch 42/100\n",
            "536/536 [==============================] - 1s 1ms/step - loss: 0.3303 - accuracy: 0.8606 - val_loss: 0.3580 - val_accuracy: 0.8576\n",
            "Epoch 43/100\n",
            "536/536 [==============================] - 1s 1ms/step - loss: 0.3303 - accuracy: 0.8632 - val_loss: 0.3567 - val_accuracy: 0.8550\n",
            "Epoch 44/100\n",
            "536/536 [==============================] - 1s 1ms/step - loss: 0.3303 - accuracy: 0.8614 - val_loss: 0.3563 - val_accuracy: 0.8546\n",
            "Epoch 45/100\n",
            "536/536 [==============================] - 1s 1ms/step - loss: 0.3300 - accuracy: 0.8630 - val_loss: 0.3566 - val_accuracy: 0.8557\n",
            "Epoch 46/100\n",
            "536/536 [==============================] - 1s 1ms/step - loss: 0.3301 - accuracy: 0.8625 - val_loss: 0.3559 - val_accuracy: 0.8542\n",
            "Epoch 47/100\n",
            "536/536 [==============================] - 1s 1ms/step - loss: 0.3305 - accuracy: 0.8599 - val_loss: 0.3566 - val_accuracy: 0.8557\n",
            "Epoch 48/100\n",
            "536/536 [==============================] - 1s 1ms/step - loss: 0.3301 - accuracy: 0.8642 - val_loss: 0.3552 - val_accuracy: 0.8557\n",
            "Epoch 49/100\n",
            "536/536 [==============================] - 1s 1ms/step - loss: 0.3295 - accuracy: 0.8623 - val_loss: 0.3571 - val_accuracy: 0.8535\n",
            "Epoch 50/100\n",
            "536/536 [==============================] - 1s 1ms/step - loss: 0.3302 - accuracy: 0.8627 - val_loss: 0.3572 - val_accuracy: 0.8580\n",
            "Epoch 51/100\n",
            "536/536 [==============================] - 1s 1ms/step - loss: 0.3297 - accuracy: 0.8625 - val_loss: 0.3559 - val_accuracy: 0.8557\n",
            "Epoch 52/100\n",
            "536/536 [==============================] - 1s 1ms/step - loss: 0.3301 - accuracy: 0.8617 - val_loss: 0.3559 - val_accuracy: 0.8576\n",
            "Epoch 53/100\n",
            "536/536 [==============================] - 1s 1ms/step - loss: 0.3290 - accuracy: 0.8628 - val_loss: 0.3593 - val_accuracy: 0.8531\n",
            "Epoch 54/100\n",
            "536/536 [==============================] - 1s 1ms/step - loss: 0.3293 - accuracy: 0.8636 - val_loss: 0.3568 - val_accuracy: 0.8546\n",
            "Epoch 55/100\n",
            "536/536 [==============================] - 1s 1ms/step - loss: 0.3293 - accuracy: 0.8627 - val_loss: 0.3559 - val_accuracy: 0.8557\n",
            "Epoch 56/100\n",
            "536/536 [==============================] - 1s 1ms/step - loss: 0.3289 - accuracy: 0.8647 - val_loss: 0.3581 - val_accuracy: 0.8542\n",
            "Epoch 57/100\n",
            "536/536 [==============================] - 1s 1ms/step - loss: 0.3291 - accuracy: 0.8640 - val_loss: 0.3553 - val_accuracy: 0.8557\n",
            "Epoch 58/100\n",
            "536/536 [==============================] - 1s 1ms/step - loss: 0.3287 - accuracy: 0.8638 - val_loss: 0.3586 - val_accuracy: 0.8523\n",
            "Epoch 59/100\n",
            "536/536 [==============================] - 1s 1ms/step - loss: 0.3295 - accuracy: 0.8638 - val_loss: 0.3565 - val_accuracy: 0.8538\n",
            "Epoch 60/100\n",
            "536/536 [==============================] - 1s 1ms/step - loss: 0.3290 - accuracy: 0.8638 - val_loss: 0.3556 - val_accuracy: 0.8542\n",
            "Epoch 61/100\n",
            "536/536 [==============================] - 1s 1ms/step - loss: 0.3289 - accuracy: 0.8651 - val_loss: 0.3559 - val_accuracy: 0.8546\n",
            "Epoch 62/100\n",
            "536/536 [==============================] - 1s 1ms/step - loss: 0.3288 - accuracy: 0.8627 - val_loss: 0.3577 - val_accuracy: 0.8550\n",
            "Epoch 63/100\n",
            "536/536 [==============================] - 1s 1ms/step - loss: 0.3289 - accuracy: 0.8630 - val_loss: 0.3556 - val_accuracy: 0.8542\n",
            "Epoch 64/100\n",
            "536/536 [==============================] - 1s 1ms/step - loss: 0.3285 - accuracy: 0.8653 - val_loss: 0.3591 - val_accuracy: 0.8554\n",
            "Epoch 65/100\n",
            "536/536 [==============================] - 1s 1ms/step - loss: 0.3286 - accuracy: 0.8630 - val_loss: 0.3558 - val_accuracy: 0.8542\n",
            "Epoch 66/100\n",
            "536/536 [==============================] - 1s 1ms/step - loss: 0.3284 - accuracy: 0.8630 - val_loss: 0.3564 - val_accuracy: 0.8542\n",
            "Epoch 67/100\n",
            "536/536 [==============================] - 1s 1ms/step - loss: 0.3286 - accuracy: 0.8638 - val_loss: 0.3562 - val_accuracy: 0.8542\n",
            "Epoch 68/100\n",
            "536/536 [==============================] - 1s 1ms/step - loss: 0.3285 - accuracy: 0.8640 - val_loss: 0.3588 - val_accuracy: 0.8535\n",
            "Epoch 69/100\n",
            "536/536 [==============================] - 1s 1ms/step - loss: 0.3283 - accuracy: 0.8632 - val_loss: 0.3563 - val_accuracy: 0.8542\n",
            "Epoch 70/100\n",
            "536/536 [==============================] - 1s 1ms/step - loss: 0.3288 - accuracy: 0.8627 - val_loss: 0.3560 - val_accuracy: 0.8546\n",
            "Epoch 71/100\n",
            "536/536 [==============================] - 1s 1ms/step - loss: 0.3281 - accuracy: 0.8632 - val_loss: 0.3604 - val_accuracy: 0.8535\n",
            "Epoch 72/100\n",
            "536/536 [==============================] - 1s 1ms/step - loss: 0.3283 - accuracy: 0.8623 - val_loss: 0.3570 - val_accuracy: 0.8557\n",
            "Epoch 73/100\n",
            "536/536 [==============================] - 1s 1ms/step - loss: 0.3282 - accuracy: 0.8625 - val_loss: 0.3564 - val_accuracy: 0.8535\n",
            "Epoch 74/100\n",
            "536/536 [==============================] - 1s 1ms/step - loss: 0.3282 - accuracy: 0.8651 - val_loss: 0.3553 - val_accuracy: 0.8535\n",
            "Epoch 75/100\n",
            "536/536 [==============================] - 1s 1ms/step - loss: 0.3279 - accuracy: 0.8619 - val_loss: 0.3562 - val_accuracy: 0.8554\n",
            "Epoch 76/100\n",
            "536/536 [==============================] - 1s 1ms/step - loss: 0.3278 - accuracy: 0.8632 - val_loss: 0.3568 - val_accuracy: 0.8538\n",
            "Epoch 77/100\n",
            "536/536 [==============================] - 1s 1ms/step - loss: 0.3280 - accuracy: 0.8636 - val_loss: 0.3575 - val_accuracy: 0.8588\n",
            "Epoch 78/100\n",
            "536/536 [==============================] - 1s 1ms/step - loss: 0.3279 - accuracy: 0.8623 - val_loss: 0.3560 - val_accuracy: 0.8546\n",
            "Epoch 79/100\n",
            "536/536 [==============================] - 1s 1ms/step - loss: 0.3277 - accuracy: 0.8628 - val_loss: 0.3566 - val_accuracy: 0.8546\n",
            "Epoch 80/100\n",
            "536/536 [==============================] - 1s 1ms/step - loss: 0.3282 - accuracy: 0.8645 - val_loss: 0.3558 - val_accuracy: 0.8535\n",
            "Epoch 81/100\n",
            "536/536 [==============================] - 1s 1ms/step - loss: 0.3283 - accuracy: 0.8638 - val_loss: 0.3556 - val_accuracy: 0.8542\n",
            "Epoch 82/100\n",
            "536/536 [==============================] - 1s 1ms/step - loss: 0.3277 - accuracy: 0.8645 - val_loss: 0.3573 - val_accuracy: 0.8561\n",
            "Epoch 83/100\n",
            "536/536 [==============================] - 1s 1ms/step - loss: 0.3277 - accuracy: 0.8634 - val_loss: 0.3556 - val_accuracy: 0.8538\n",
            "Epoch 84/100\n",
            "536/536 [==============================] - 1s 1ms/step - loss: 0.3283 - accuracy: 0.8634 - val_loss: 0.3569 - val_accuracy: 0.8554\n",
            "Epoch 85/100\n",
            "536/536 [==============================] - 1s 1ms/step - loss: 0.3274 - accuracy: 0.8627 - val_loss: 0.3560 - val_accuracy: 0.8554\n",
            "Epoch 86/100\n",
            "536/536 [==============================] - 1s 1ms/step - loss: 0.3276 - accuracy: 0.8614 - val_loss: 0.3549 - val_accuracy: 0.8565\n",
            "Epoch 87/100\n",
            "536/536 [==============================] - 1s 1ms/step - loss: 0.3276 - accuracy: 0.8643 - val_loss: 0.3563 - val_accuracy: 0.8569\n",
            "Epoch 88/100\n",
            "536/536 [==============================] - 1s 1ms/step - loss: 0.3281 - accuracy: 0.8628 - val_loss: 0.3547 - val_accuracy: 0.8565\n",
            "Epoch 89/100\n",
            "536/536 [==============================] - 1s 1ms/step - loss: 0.3273 - accuracy: 0.8628 - val_loss: 0.3560 - val_accuracy: 0.8557\n",
            "Epoch 90/100\n",
            "536/536 [==============================] - 1s 1ms/step - loss: 0.3278 - accuracy: 0.8625 - val_loss: 0.3548 - val_accuracy: 0.8565\n",
            "Epoch 91/100\n",
            "536/536 [==============================] - 1s 1ms/step - loss: 0.3277 - accuracy: 0.8651 - val_loss: 0.3550 - val_accuracy: 0.8576\n",
            "Epoch 92/100\n",
            "536/536 [==============================] - 1s 1ms/step - loss: 0.3279 - accuracy: 0.8625 - val_loss: 0.3563 - val_accuracy: 0.8573\n",
            "Epoch 93/100\n",
            "536/536 [==============================] - 1s 1ms/step - loss: 0.3274 - accuracy: 0.8632 - val_loss: 0.3570 - val_accuracy: 0.8538\n",
            "Epoch 94/100\n",
            "536/536 [==============================] - 1s 1ms/step - loss: 0.3276 - accuracy: 0.8640 - val_loss: 0.3552 - val_accuracy: 0.8554\n",
            "Epoch 95/100\n",
            "536/536 [==============================] - 1s 1ms/step - loss: 0.3266 - accuracy: 0.8643 - val_loss: 0.3546 - val_accuracy: 0.8565\n",
            "Epoch 96/100\n",
            "536/536 [==============================] - 1s 1ms/step - loss: 0.3271 - accuracy: 0.8660 - val_loss: 0.3567 - val_accuracy: 0.8546\n",
            "Epoch 97/100\n",
            "536/536 [==============================] - 1s 1ms/step - loss: 0.3275 - accuracy: 0.8655 - val_loss: 0.3545 - val_accuracy: 0.8557\n",
            "Epoch 98/100\n",
            "536/536 [==============================] - 1s 1ms/step - loss: 0.3271 - accuracy: 0.8642 - val_loss: 0.3546 - val_accuracy: 0.8550\n",
            "Epoch 99/100\n",
            "536/536 [==============================] - 1s 1ms/step - loss: 0.3273 - accuracy: 0.8649 - val_loss: 0.3557 - val_accuracy: 0.8546\n",
            "Epoch 100/100\n",
            "536/536 [==============================] - 1s 1ms/step - loss: 0.3270 - accuracy: 0.8642 - val_loss: 0.3588 - val_accuracy: 0.8527\n"
          ],
          "name": "stdout"
        }
      ]
    },
    {
      "cell_type": "code",
      "metadata": {
        "id": "WdcfryCWGAar",
        "colab_type": "code",
        "colab": {
          "base_uri": "https://localhost:8080/",
          "height": 34
        },
        "outputId": "9e7c9fc3-fb6e-42e2-af9c-b1606593b7d4"
      },
      "source": [
        "print(model_history.history.keys())"
      ],
      "execution_count": 114,
      "outputs": [
        {
          "output_type": "stream",
          "text": [
            "dict_keys(['loss', 'accuracy', 'val_loss', 'val_accuracy'])\n"
          ],
          "name": "stdout"
        }
      ]
    },
    {
      "cell_type": "markdown",
      "metadata": {
        "id": "ncn78jzUOBRE",
        "colab_type": "text"
      },
      "source": [
        "## Plotting Model Performance"
      ]
    },
    {
      "cell_type": "code",
      "metadata": {
        "id": "JUdfe5GZGgKS",
        "colab_type": "code",
        "colab": {
          "base_uri": "https://localhost:8080/",
          "height": 301
        },
        "outputId": "13b889f6-69e2-4241-d66b-6c0e4bdffed2"
      },
      "source": [
        "plt.plot(model_history.history['accuracy'])\n",
        "plt.plot(model_history.history['val_accuracy'])\n",
        "plt.title('model accuracy')\n",
        "plt.ylabel('accuracy')\n",
        "plt.xlabel('epoch')\n",
        "plt.legend(['train','test'],loc = 'upper left')\n",
        "plt.show()"
      ],
      "execution_count": 115,
      "outputs": [
        {
          "output_type": "display_data",
          "data": {
            "image/png": "[encoded data removed]",
            "text/plain": [
              "<Figure size 432x288 with 1 Axes>"
            ]
          },
          "metadata": {
            "tags": []
          }
        }
      ]
    },
    {
      "cell_type": "code",
      "metadata": {
        "id": "Rb4mfUC0LqMq",
        "colab_type": "code",
        "colab": {
          "base_uri": "https://localhost:8080/",
          "height": 301
        },
        "outputId": "d8b4a5ab-1f50-4257-e468-9b0e66bbc788"
      },
      "source": [
        "plt.plot(model_history.history['loss'])\n",
        "plt.plot(model_history.history['val_loss'])\n",
        "plt.title('model loss')\n",
        "plt.ylabel('loss')\n",
        "plt.xlabel('epoch')\n",
        "plt.legend(['train','test'],loc = 'upper left')\n",
        "plt.show()"
      ],
      "execution_count": 116,
      "outputs": [
        {
          "output_type": "display_data",
          "data": {
            "image/png": "[encoded data removed]",
            "text/plain": [
              "<Figure size 432x288 with 1 Axes>"
            ]
          },
          "metadata": {
            "tags": []
          }
        }
      ]
    },
    {
      "cell_type": "markdown",
      "metadata": {
        "id": "h6GtcY9ZOFzK",
        "colab_type": "text"
      },
      "source": [
        "## Testing model accuracy"
      ]
    },
    {
      "cell_type": "code",
      "metadata": {
        "id": "T2O8IOFvMJQD",
        "colab_type": "code",
        "colab": {}
      },
      "source": [
        "y_pred = classifier.predict(X_test)\n",
        "y_pred = (y_pred > 0.5)"
      ],
      "execution_count": 117,
      "outputs": []
    },
    {
      "cell_type": "code",
      "metadata": {
        "id": "QQ1AcOxlMSqr",
        "colab_type": "code",
        "colab": {}
      },
      "source": [
        "cm = confusion_matrix(y_test, y_pred)"
      ],
      "execution_count": 118,
      "outputs": []
    },
    {
      "cell_type": "code",
      "metadata": {
        "id": "n0Y8vOMYMnJ-",
        "colab_type": "code",
        "colab": {}
      },
      "source": [
        "score = accuracy_score(y_pred,y_test)"
      ],
      "execution_count": 119,
      "outputs": []
    },
    {
      "cell_type": "code",
      "metadata": {
        "id": "GoVw_htBMtEA",
        "colab_type": "code",
        "colab": {
          "base_uri": "https://localhost:8080/",
          "height": 50
        },
        "outputId": "11549c46-18fd-41af-874c-fb8f9175fdd6"
      },
      "source": [
        "cm"
      ],
      "execution_count": 120,
      "outputs": [
        {
          "output_type": "execute_result",
          "data": {
            "text/plain": [
              "array([[1494,  101],\n",
              "       [ 176,  229]])"
            ]
          },
          "metadata": {
            "tags": []
          },
          "execution_count": 120
        }
      ]
    },
    {
      "cell_type": "code",
      "metadata": {
        "id": "cJ7kdfWeMtuq",
        "colab_type": "code",
        "colab": {
          "base_uri": "https://localhost:8080/",
          "height": 34
        },
        "outputId": "36aadefb-0998-4d14-b4e8-bbf6a70295e5"
      },
      "source": [
        "score"
      ],
      "execution_count": 121,
      "outputs": [
        {
          "output_type": "execute_result",
          "data": {
            "text/plain": [
              "0.8615"
            ]
          },
          "metadata": {
            "tags": []
          },
          "execution_count": 121
        }
      ]
    }
  ]
}