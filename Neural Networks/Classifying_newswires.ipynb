{
  "nbformat": 4,
  "nbformat_minor": 0,
  "metadata": {
    "colab": {
      "name": "Classifying_newswires.ipynb",
      "provenance": []
    },
    "kernelspec": {
      "name": "python3",
      "display_name": "Python 3"
    }
  },
  "cells": [
    {
      "cell_type": "markdown",
      "metadata": {
        "id": "cQfKgL4DhF4f",
        "colab_type": "text"
      },
      "source": [
        "# Classifying Newswires Multiclass Classification"
      ]
    },
    {
      "cell_type": "markdown",
      "metadata": {
        "id": "UjCVNMtGjU92",
        "colab_type": "text"
      },
      "source": [
        "## Importing required modules"
      ]
    },
    {
      "cell_type": "code",
      "metadata": {
        "id": "iFmAaOb2g6Fe",
        "colab_type": "code",
        "colab": {}
      },
      "source": [
        "import pandas as pd\n",
        "import numpy as np\n",
        "import matplotlib.pyplot as plt\n",
        "import seaborn as sns; sns.set()\n",
        "from keras.datasets import reuters\n",
        "\n",
        "(train_data,train_labels) , (test_data,test_labels) = reuters.load_data(num_words = 10000)"
      ],
      "execution_count": null,
      "outputs": []
    },
    {
      "cell_type": "code",
      "metadata": {
        "id": "IMUauX25h5rk",
        "colab_type": "code",
        "colab": {
          "base_uri": "https://localhost:8080/",
          "height": 34
        },
        "outputId": "0fc819b8-0e16-42ad-d8eb-38d87dbd2215"
      },
      "source": [
        "len(train_data)"
      ],
      "execution_count": null,
      "outputs": [
        {
          "output_type": "execute_result",
          "data": {
            "text/plain": [
              "8982"
            ]
          },
          "metadata": {
            "tags": []
          },
          "execution_count": 74
        }
      ]
    },
    {
      "cell_type": "code",
      "metadata": {
        "id": "TiSH7JqPh67O",
        "colab_type": "code",
        "colab": {
          "base_uri": "https://localhost:8080/",
          "height": 34
        },
        "outputId": "8786c43a-1ae1-4559-f3a5-fd2bd4177436"
      },
      "source": [
        "len(test_data)"
      ],
      "execution_count": null,
      "outputs": [
        {
          "output_type": "execute_result",
          "data": {
            "text/plain": [
              "2246"
            ]
          },
          "metadata": {
            "tags": []
          },
          "execution_count": 75
        }
      ]
    },
    {
      "cell_type": "code",
      "metadata": {
        "id": "bcPWtSauh8ru",
        "colab_type": "code",
        "colab": {
          "base_uri": "https://localhost:8080/",
          "height": 544
        },
        "outputId": "6c1a8be2-1589-4876-f178-244b5fa18aed"
      },
      "source": [
        "train_data[10]"
      ],
      "execution_count": null,
      "outputs": [
        {
          "output_type": "execute_result",
          "data": {
            "text/plain": [
              "[1,\n",
              " 245,\n",
              " 273,\n",
              " 207,\n",
              " 156,\n",
              " 53,\n",
              " 74,\n",
              " 160,\n",
              " 26,\n",
              " 14,\n",
              " 46,\n",
              " 296,\n",
              " 26,\n",
              " 39,\n",
              " 74,\n",
              " 2979,\n",
              " 3554,\n",
              " 14,\n",
              " 46,\n",
              " 4689,\n",
              " 4329,\n",
              " 86,\n",
              " 61,\n",
              " 3499,\n",
              " 4795,\n",
              " 14,\n",
              " 61,\n",
              " 451,\n",
              " 4329,\n",
              " 17,\n",
              " 12]"
            ]
          },
          "metadata": {
            "tags": []
          },
          "execution_count": 76
        }
      ]
    },
    {
      "cell_type": "code",
      "metadata": {
        "id": "qDJ65NSLimu-",
        "colab_type": "code",
        "colab": {}
      },
      "source": [
        "word_index = reuters.get_word_index()\n",
        "reverse_word_index = dict([(value,key) for  (key,value) in word_index.items()])\n",
        "decoded_newswire = ' '.join([reverse_word_index.get(i-3,'?') for i in train_data[0]])"
      ],
      "execution_count": null,
      "outputs": []
    },
    {
      "cell_type": "code",
      "metadata": {
        "id": "TaRRuzCljKy9",
        "colab_type": "code",
        "colab": {
          "base_uri": "https://localhost:8080/",
          "height": 69
        },
        "outputId": "8fcb62a2-4264-4d50-b512-fba5e4384cbb"
      },
      "source": [
        "decoded_newswire"
      ],
      "execution_count": null,
      "outputs": [
        {
          "output_type": "execute_result",
          "data": {
            "application/vnd.google.colaboratory.intrinsic+json": {
              "type": "string"
            },
            "text/plain": [
              "'? ? ? said as a result of its december acquisition of space co it expects earnings per share in 1987 of 1 15 to 1 30 dlrs per share up from 70 cts in 1986 the company said pretax net should rise to nine to 10 mln dlrs from six mln dlrs in 1986 and rental operation revenues to 19 to 22 mln dlrs from 12 5 mln dlrs it said cash flow per share this year should be 2 50 to three dlrs reuter 3'"
            ]
          },
          "metadata": {
            "tags": []
          },
          "execution_count": 78
        }
      ]
    },
    {
      "cell_type": "markdown",
      "metadata": {
        "id": "TfvnsWyjjSMf",
        "colab_type": "text"
      },
      "source": [
        "## Preparing the data"
      ]
    },
    {
      "cell_type": "code",
      "metadata": {
        "id": "x5qBRgDmjNBd",
        "colab_type": "code",
        "colab": {}
      },
      "source": [
        "# Vectorizing the data as binary values\n",
        "def vectorize_sequences(sequences,dimensions = 10000):\n",
        "  results = np.zeros((len(sequences),dimensions))\n",
        "  for i ,sequence in enumerate(sequences):\n",
        "    results[i,sequence] = 1.\n",
        "  return results\n",
        "\n",
        "x_train = vectorize_sequences(train_data)\n",
        "x_test = vectorize_sequences(test_data)"
      ],
      "execution_count": null,
      "outputs": []
    },
    {
      "cell_type": "code",
      "metadata": {
        "id": "a7taRVnhjksi",
        "colab_type": "code",
        "colab": {}
      },
      "source": [
        "# one hoy encoding the train and test labels\n",
        "def to_one_hot(labels,dimensions = 46):\n",
        "  results = np.zeros((len(labels),dimensions))\n",
        "  for i, label in enumerate(labels):\n",
        "    results[i, label] = 1\n",
        "  return results\n",
        "\n",
        "one_hot_train_labels = to_one_hot(train_labels)\n",
        "one_hot_test_labels = to_one_hot(test_labels)"
      ],
      "execution_count": null,
      "outputs": []
    },
    {
      "cell_type": "markdown",
      "metadata": {
        "id": "nZk8uSDdlbg3",
        "colab_type": "text"
      },
      "source": [
        "## Building the neural networks"
      ]
    },
    {
      "cell_type": "code",
      "metadata": {
        "id": "cRgbp9yok4hP",
        "colab_type": "code",
        "colab": {}
      },
      "source": [
        "from keras.utils.np_utils import to_categorical\n",
        "from keras import layers\n",
        "from keras import models"
      ],
      "execution_count": null,
      "outputs": []
    },
    {
      "cell_type": "code",
      "metadata": {
        "id": "WHCnQvY3ltMc",
        "colab_type": "code",
        "colab": {}
      },
      "source": [
        "one_hot_train_labels = to_categorical(train_labels)\n",
        "one_hot_test_labels = to_categorical(test_labels)"
      ],
      "execution_count": null,
      "outputs": []
    },
    {
      "cell_type": "code",
      "metadata": {
        "id": "m7ZEcEPOmKB8",
        "colab_type": "code",
        "colab": {}
      },
      "source": [
        "model = models.Sequential()\n",
        "model.add(layers.Dense(64,activation = 'relu', input_shape = (10000,)))\n",
        "model.add(layers.Dense(64,activation = 'relu'))\n",
        "model.add(layers.Dense(46,activation = 'softmax'))"
      ],
      "execution_count": null,
      "outputs": []
    },
    {
      "cell_type": "code",
      "metadata": {
        "id": "2895Q_gvqsmQ",
        "colab_type": "code",
        "colab": {}
      },
      "source": [
        "model.compile(optimizer='rmsprop',loss = 'categorical_crossentropy',metrics = ['accuracy'])"
      ],
      "execution_count": null,
      "outputs": []
    },
    {
      "cell_type": "code",
      "metadata": {
        "id": "LQDr2NfwrWuq",
        "colab_type": "code",
        "colab": {}
      },
      "source": [
        "x_val = x_train[:1000]\n",
        "partial_x_train = x_train[1000:]"
      ],
      "execution_count": null,
      "outputs": []
    },
    {
      "cell_type": "code",
      "metadata": {
        "id": "oiaQeY4ErlV6",
        "colab_type": "code",
        "colab": {}
      },
      "source": [
        "y_val = one_hot_train_labels[:1000]\n",
        "partial_y_train = one_hot_train_labels[1000:]"
      ],
      "execution_count": null,
      "outputs": []
    },
    {
      "cell_type": "markdown",
      "metadata": {
        "id": "vsv8gg7asIs8",
        "colab_type": "text"
      },
      "source": [
        "## Fitting the model"
      ]
    },
    {
      "cell_type": "code",
      "metadata": {
        "id": "e7bYXz3trsWq",
        "colab_type": "code",
        "colab": {
          "base_uri": "https://localhost:8080/",
          "height": 697
        },
        "outputId": "665cad0d-5117-4cbb-f4eb-b02c3a063cbd"
      },
      "source": [
        "history = model.fit(partial_x_train,partial_y_train,epochs=20, batch_size=512,\n",
        "                    validation_data = (x_val,y_val))"
      ],
      "execution_count": null,
      "outputs": [
        {
          "output_type": "stream",
          "text": [
            "Epoch 1/20\n",
            "16/16 [==============================] - 1s 49ms/step - loss: 2.6042 - accuracy: 0.5262 - val_loss: 1.7331 - val_accuracy: 0.6360\n",
            "Epoch 2/20\n",
            "16/16 [==============================] - 1s 41ms/step - loss: 1.4342 - accuracy: 0.7008 - val_loss: 1.3148 - val_accuracy: 0.7100\n",
            "Epoch 3/20\n",
            "16/16 [==============================] - 1s 43ms/step - loss: 1.0687 - accuracy: 0.7759 - val_loss: 1.1466 - val_accuracy: 0.7470\n",
            "Epoch 4/20\n",
            "16/16 [==============================] - 1s 41ms/step - loss: 0.8414 - accuracy: 0.8227 - val_loss: 1.0356 - val_accuracy: 0.7740\n",
            "Epoch 5/20\n",
            "16/16 [==============================] - 1s 41ms/step - loss: 0.6702 - accuracy: 0.8583 - val_loss: 0.9662 - val_accuracy: 0.7930\n",
            "Epoch 6/20\n",
            "16/16 [==============================] - 1s 41ms/step - loss: 0.5380 - accuracy: 0.8896 - val_loss: 0.9157 - val_accuracy: 0.8040\n",
            "Epoch 7/20\n",
            "16/16 [==============================] - 1s 41ms/step - loss: 0.4291 - accuracy: 0.9104 - val_loss: 0.8906 - val_accuracy: 0.8110\n",
            "Epoch 8/20\n",
            "16/16 [==============================] - 1s 41ms/step - loss: 0.3466 - accuracy: 0.9280 - val_loss: 0.8917 - val_accuracy: 0.8060\n",
            "Epoch 9/20\n",
            "16/16 [==============================] - 1s 41ms/step - loss: 0.2870 - accuracy: 0.9370 - val_loss: 0.8748 - val_accuracy: 0.8200\n",
            "Epoch 10/20\n",
            "16/16 [==============================] - 1s 41ms/step - loss: 0.2416 - accuracy: 0.9444 - val_loss: 0.8730 - val_accuracy: 0.8170\n",
            "Epoch 11/20\n",
            "16/16 [==============================] - 1s 40ms/step - loss: 0.2084 - accuracy: 0.9479 - val_loss: 0.9515 - val_accuracy: 0.8010\n",
            "Epoch 12/20\n",
            "16/16 [==============================] - 1s 42ms/step - loss: 0.1802 - accuracy: 0.9518 - val_loss: 0.9201 - val_accuracy: 0.8190\n",
            "Epoch 13/20\n",
            "16/16 [==============================] - 1s 41ms/step - loss: 0.1677 - accuracy: 0.9551 - val_loss: 0.9448 - val_accuracy: 0.8070\n",
            "Epoch 14/20\n",
            "16/16 [==============================] - 1s 40ms/step - loss: 0.1483 - accuracy: 0.9544 - val_loss: 0.9454 - val_accuracy: 0.8190\n",
            "Epoch 15/20\n",
            "16/16 [==============================] - 1s 41ms/step - loss: 0.1376 - accuracy: 0.9578 - val_loss: 1.0035 - val_accuracy: 0.8040\n",
            "Epoch 16/20\n",
            "16/16 [==============================] - 1s 41ms/step - loss: 0.1329 - accuracy: 0.9560 - val_loss: 1.0274 - val_accuracy: 0.8020\n",
            "Epoch 17/20\n",
            "16/16 [==============================] - 1s 42ms/step - loss: 0.1250 - accuracy: 0.9559 - val_loss: 0.9866 - val_accuracy: 0.8200\n",
            "Epoch 18/20\n",
            "16/16 [==============================] - 1s 40ms/step - loss: 0.1196 - accuracy: 0.9565 - val_loss: 1.0265 - val_accuracy: 0.8070\n",
            "Epoch 19/20\n",
            "16/16 [==============================] - 1s 42ms/step - loss: 0.1158 - accuracy: 0.9564 - val_loss: 1.0749 - val_accuracy: 0.8000\n",
            "Epoch 20/20\n",
            "16/16 [==============================] - 1s 41ms/step - loss: 0.1099 - accuracy: 0.9584 - val_loss: 1.0833 - val_accuracy: 0.8000\n"
          ],
          "name": "stdout"
        }
      ]
    },
    {
      "cell_type": "code",
      "metadata": {
        "id": "ItzpHZMJsMbK",
        "colab_type": "code",
        "colab": {
          "base_uri": "https://localhost:8080/",
          "height": 34
        },
        "outputId": "aff0c2e3-0089-4aa5-cb3a-fc1aca4e9466"
      },
      "source": [
        "history_dict = history.history\n",
        "history_dict.keys()"
      ],
      "execution_count": null,
      "outputs": [
        {
          "output_type": "execute_result",
          "data": {
            "text/plain": [
              "dict_keys(['loss', 'accuracy', 'val_loss', 'val_accuracy'])"
            ]
          },
          "metadata": {
            "tags": []
          },
          "execution_count": 88
        }
      ]
    },
    {
      "cell_type": "markdown",
      "metadata": {
        "id": "8ODs_v5CuHzM",
        "colab_type": "text"
      },
      "source": [
        "## Visualizing the performance of the neural network"
      ]
    },
    {
      "cell_type": "code",
      "metadata": {
        "id": "jAFdxOphtYyL",
        "colab_type": "code",
        "colab": {}
      },
      "source": [
        "loss_values = history_dict['loss']\n",
        "val_loss_values = history_dict['val_loss']\n",
        "epochs = range(1, len(history_dict['accuracy']) + 1)"
      ],
      "execution_count": null,
      "outputs": []
    },
    {
      "cell_type": "code",
      "metadata": {
        "id": "QvI4LCYFui9J",
        "colab_type": "code",
        "colab": {
          "base_uri": "https://localhost:8080/",
          "height": 301
        },
        "outputId": "649681ac-9947-4593-d94d-b4202a003560"
      },
      "source": [
        "plt.plot(epochs, loss_values,'bo', label = 'Training Loss')\n",
        "plt.plot(epochs, val_loss_values,'b', label = 'Validation Loss')\n",
        "plt.title('Training and validation Loss')\n",
        "plt.xlabel('Epochs')\n",
        "plt.ylabel('Loss')\n",
        "plt.legend()\n",
        "plt.show()"
      ],
      "execution_count": null,
      "outputs": [
        {
          "output_type": "display_data",
          "data": {
            "image/png": "[encoded data removed]",
            "text/plain": [
              "<Figure size 432x288 with 1 Axes>"
            ]
          },
          "metadata": {
            "tags": []
          }
        }
      ]
    },
    {
      "cell_type": "code",
      "metadata": {
        "id": "len64I6zuk1Z",
        "colab_type": "code",
        "colab": {}
      },
      "source": [
        "acc_values = history_dict['accuracy']\n",
        "val_acc_values = history_dict['val_accuracy']"
      ],
      "execution_count": null,
      "outputs": []
    },
    {
      "cell_type": "code",
      "metadata": {
        "id": "sy5AAOHHuqcp",
        "colab_type": "code",
        "colab": {
          "base_uri": "https://localhost:8080/",
          "height": 301
        },
        "outputId": "443ce4cb-1c30-49ca-ccff-2db3fd1a81ad"
      },
      "source": [
        "plt.plot(epochs, acc_values,'bo', label = 'Training Accuracy')\n",
        "plt.plot(epochs, val_acc_values,'b', label = 'Validation Accuracy')\n",
        "plt.title('Training and validation Accuracy')\n",
        "plt.xlabel('Epochs')\n",
        "plt.ylabel('Accuracy')\n",
        "plt.legend()\n",
        "plt.show()"
      ],
      "execution_count": null,
      "outputs": [
        {
          "output_type": "display_data",
          "data": {
            "image/png": "[encoded data removed]",
            "text/plain": [
              "<Figure size 432x288 with 1 Axes>"
            ]
          },
          "metadata": {
            "tags": []
          }
        }
      ]
    },
    {
      "cell_type": "markdown",
      "metadata": {
        "id": "pWe0aFPiu0-M",
        "colab_type": "text"
      },
      "source": [
        "## Retraining the model for better performance"
      ]
    },
    {
      "cell_type": "code",
      "metadata": {
        "id": "ucwunZGnushJ",
        "colab_type": "code",
        "colab": {}
      },
      "source": [
        "model = models.Sequential()\n",
        "model.add(layers.Dense(64,activation = 'relu', input_shape = (10000,)))\n",
        "model.add(layers.Dense(64,activation = 'relu'))\n",
        "model.add(layers.Dense(46,activation = 'softmax'))"
      ],
      "execution_count": null,
      "outputs": []
    },
    {
      "cell_type": "code",
      "metadata": {
        "id": "PXAT4_zKu8t5",
        "colab_type": "code",
        "colab": {}
      },
      "source": [
        "model.compile(optimizer='rmsprop',loss = 'categorical_crossentropy',metrics = ['accuracy'])"
      ],
      "execution_count": null,
      "outputs": []
    },
    {
      "cell_type": "code",
      "metadata": {
        "id": "xiBfGNhBu-4p",
        "colab_type": "code",
        "colab": {
          "base_uri": "https://localhost:8080/",
          "height": 323
        },
        "outputId": "a1174a7d-313b-494a-8182-ed4ad581567e"
      },
      "source": [
        "history = model.fit(partial_x_train,partial_y_train,epochs=9, batch_size=512,\n",
        "                    validation_data = (x_val,y_val))"
      ],
      "execution_count": null,
      "outputs": [
        {
          "output_type": "stream",
          "text": [
            "Epoch 1/9\n",
            "16/16 [==============================] - 1s 49ms/step - loss: 2.3475 - accuracy: 0.5160 - val_loss: 1.6041 - val_accuracy: 0.6420\n",
            "Epoch 2/9\n",
            "16/16 [==============================] - 1s 41ms/step - loss: 1.3422 - accuracy: 0.7058 - val_loss: 1.2756 - val_accuracy: 0.7110\n",
            "Epoch 3/9\n",
            "16/16 [==============================] - 1s 41ms/step - loss: 1.0248 - accuracy: 0.7769 - val_loss: 1.1386 - val_accuracy: 0.7450\n",
            "Epoch 4/9\n",
            "16/16 [==============================] - 1s 42ms/step - loss: 0.8064 - accuracy: 0.8261 - val_loss: 1.0243 - val_accuracy: 0.7710\n",
            "Epoch 5/9\n",
            "16/16 [==============================] - 1s 41ms/step - loss: 0.6344 - accuracy: 0.8656 - val_loss: 0.9475 - val_accuracy: 0.7940\n",
            "Epoch 6/9\n",
            "16/16 [==============================] - 1s 41ms/step - loss: 0.4993 - accuracy: 0.8936 - val_loss: 0.8979 - val_accuracy: 0.8100\n",
            "Epoch 7/9\n",
            "16/16 [==============================] - 1s 41ms/step - loss: 0.3970 - accuracy: 0.9173 - val_loss: 0.9364 - val_accuracy: 0.7850\n",
            "Epoch 8/9\n",
            "16/16 [==============================] - 1s 40ms/step - loss: 0.3210 - accuracy: 0.9311 - val_loss: 0.9166 - val_accuracy: 0.8000\n",
            "Epoch 9/9\n",
            "16/16 [==============================] - 1s 40ms/step - loss: 0.2690 - accuracy: 0.9391 - val_loss: 0.8966 - val_accuracy: 0.8160\n"
          ],
          "name": "stdout"
        }
      ]
    },
    {
      "cell_type": "code",
      "metadata": {
        "id": "ho0sCsO5vF3J",
        "colab_type": "code",
        "colab": {
          "base_uri": "https://localhost:8080/",
          "height": 34
        },
        "outputId": "dfdf005b-3cf6-45a1-e5cd-bda7c9bb8292"
      },
      "source": [
        "results = model.evaluate(x_test,one_hot_test_labels)"
      ],
      "execution_count": null,
      "outputs": [
        {
          "output_type": "stream",
          "text": [
            "71/71 [==============================] - 0s 2ms/step - loss: 0.9959 - accuracy: 0.7823\n"
          ],
          "name": "stdout"
        }
      ]
    },
    {
      "cell_type": "code",
      "metadata": {
        "id": "T-2w9KldvLXJ",
        "colab_type": "code",
        "colab": {}
      },
      "source": [
        "predictions = model.predict(x_test)"
      ],
      "execution_count": null,
      "outputs": []
    },
    {
      "cell_type": "code",
      "metadata": {
        "id": "WzBg6NXrv54Z",
        "colab_type": "code",
        "colab": {
          "base_uri": "https://localhost:8080/",
          "height": 34
        },
        "outputId": "dc5307d3-dbda-4eeb-9978-c544dcf3377f"
      },
      "source": [
        "predictions.shape"
      ],
      "execution_count": null,
      "outputs": [
        {
          "output_type": "execute_result",
          "data": {
            "text/plain": [
              "(2246, 46)"
            ]
          },
          "metadata": {
            "tags": []
          },
          "execution_count": 98
        }
      ]
    },
    {
      "cell_type": "code",
      "metadata": {
        "id": "LudPUGbBv_ao",
        "colab_type": "code",
        "colab": {}
      },
      "source": [
        ""
      ],
      "execution_count": null,
      "outputs": []
    }
  ]
}